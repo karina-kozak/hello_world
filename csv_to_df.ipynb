{
 "cells": [
  {
   "cell_type": "code",
   "execution_count": 5,
   "metadata": {},
   "outputs": [],
   "source": [
    "#Importing cases by zipcode from NYC coronavirus databse\n",
    "\n",
    "#Import packages\n",
    "import pandas as pd \n",
    "import sys\n",
    "\n",
    "if sys.version_info[0] < 3:\n",
    "    from StringIO import StringIO\n",
    "else:\n",
    "    from io import StringIO\n",
    "\n",
    "import requests\n",
    "\n",
    "url = 'https://raw.githubusercontent.com/nychealth/coronavirus-data/d3a8994716870cfdbd6cc2fb356c31588446fc25/tests-by-zcta.csv'\n",
    "\n",
    "html = StringIO(requests.get(url).text)\n",
    "\n",
    "#convert into dataframe and export\n",
    "cases_data = pd.read_csv(html, sep=\",\")\n",
    "cases_data.columns = [\"zipcode\", \"positive_cases\", \"total_cases\", \"cumulative_perc_positive\"]\n",
    "cases_data.drop(index= [0]).to_csv('/Users/karinakozak/Documents/Code/covid_cases_nyc.csv', index= False) #remove row because zipcode= NA\n",
    "\n"
   ]
  }
 ],
 "metadata": {
  "kernelspec": {
   "display_name": "Python 3",
   "language": "python",
   "name": "python3"
  },
  "language_info": {
   "codemirror_mode": {
    "name": "ipython",
    "version": 3
   },
   "file_extension": ".py",
   "mimetype": "text/x-python",
   "name": "python",
   "nbconvert_exporter": "python",
   "pygments_lexer": "ipython3",
   "version": "3.7.6"
  }
 },
 "nbformat": 4,
 "nbformat_minor": 4
}
